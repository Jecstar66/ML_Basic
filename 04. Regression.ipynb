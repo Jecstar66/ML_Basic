{
  "nbformat": 4,
  "nbformat_minor": 0,
  "metadata": {
    "colab": {
      "provenance": []
    },
    "kernelspec": {
      "name": "python3",
      "display_name": "Python 3"
    },
    "language_info": {
      "name": "python"
    }
  },
  "cells": [
    {
      "cell_type": "markdown",
      "source": [
        "## **[Week 6] Regression**\n",
        "\n",
        "* Implement linear regression with synthetic data\n",
        "* Implement two logistic regression models with titanic dataset\n",
        "  * using linear model\n",
        "  * using neural network\n",
        "\n",
        "**[Important]** \\\\\n",
        "This lab session will be conducted via **Zoom** on **October 4th** (Wed.) due to the temporary holiday.\\\n",
        "So, you don't have to submit the summary report for this week.\\\n",
        "After TA's presentation, please wait a moment for Q&A. We will make available to BreakRooms, then feel free to ask TAs using Zoom chat or microphone."
      ],
      "metadata": {
        "id": "oP2jHJn1Niu_"
      }
    },
    {
      "cell_type": "markdown",
      "source": [
        "### 1. Overview  \n",
        "Regression is a method to model the relationship between one or more input variables. This week, we focus on supervised learning which has dependent variable($y$) and independent variable($x$).  \n",
        "Formally, given dependent variables($x$) and independent variables($y$), find a function $f^*=argmin_f \\mathbb{E}_{(x,y)\\sim D}[l(f(x),y)]$  \n",
        " where $l$ is a loss function and $D$ is a distribution over examples $(x,y)$.  \n",
        " Practically, since knowing $D$ and searching over all functions is impossible, we use some estimation and approximation as follows:\n",
        " * estimation: sample $(x_i,y_i)$ from $D$\n",
        " * approximation: search over $F=\\{f_\\theta|\\theta\\in\\Theta\\}$, parameterized functions  \n",
        "\n",
        "We now find $\\hat \\theta = argmin_\\theta \\frac{1}{N}\\Sigma_{i=1}^N l(f_\\theta(x_i),y_i)$ to obtain $f_\\theta\\approx f^*$."
      ],
      "metadata": {
        "id": "Hb1jBxeg7NTf"
      }
    },
    {
      "cell_type": "markdown",
      "source": [
        " This week, we implement regression models with several different parameterizations $f_\\theta$.\n",
        "\n",
        "Part 2.   $f_\\theta(x) = \\theta_0^T x + \\theta_1$   \n",
        "Part 3-1. $f_\\theta(x) = \\frac{1}{1+e^{-\\theta^Tx}}$  \n",
        "Part 3-2. $f_\\theta(x) = \\frac{1}{1+e^{-NN(x;\\theta)}}$ where NN is a neural network"
      ],
      "metadata": {
        "id": "a9NlF3fSWeSg"
      }
    },
    {
      "cell_type": "markdown",
      "source": [
        "###2. Linear regression  \n"
      ],
      "metadata": {
        "id": "A7WRX4nHWofX"
      }
    },
    {
      "cell_type": "markdown",
      "source": [
        "Import the required packages and fix seed for reproduction"
      ],
      "metadata": {
        "id": "IUT9VGGeW56r"
      }
    },
    {
      "cell_type": "code",
      "source": [
        "import numpy as np\n",
        "import torch\n",
        "import torch.nn as nn\n",
        "from matplotlib import pyplot as plt\n",
        "import torch.optim as optim\n",
        "import random\n",
        "\n",
        "# Set random seeds fixed for reproducibility\n",
        "seed = 7    # Do NOT change the seed\n",
        "random.seed(seed)\n",
        "np.random.seed(seed)\n",
        "torch.manual_seed(seed)\n",
        "if torch.cuda.is_available():\n",
        "    torch.cuda.manual_seed(seed)"
      ],
      "metadata": {
        "id": "JKq7we1-MN3u"
      },
      "execution_count": null,
      "outputs": []
    },
    {
      "cell_type": "markdown",
      "source": [
        "Generate simple synthetic dataset"
      ],
      "metadata": {
        "id": "4oO83oCMXEun"
      }
    },
    {
      "cell_type": "code",
      "source": [
        "# true answer: y = 2 * x- 1\n",
        "X = torch.linspace(0,20,51)\n",
        "noise = torch.randn(51)\n",
        "y = 2*X-1+noise*3\n",
        "y[23:28]= y[23:28]+20 # outlier\n",
        "plt.plot(X,y,'o')\n",
        "plt.plot(X,2*X-1,'r')\n",
        "plt.show()"
      ],
      "metadata": {
        "colab": {
          "base_uri": "https://localhost:8080/",
          "height": 430
        },
        "id": "dx8QJ76hMO-o",
        "outputId": "34860268-9563-4c84-88a7-3847cc29d1ba"
      },
      "execution_count": null,
      "outputs": [
        {
          "output_type": "display_data",
          "data": {
            "text/plain": [
              "<Figure size 640x480 with 1 Axes>"
            ],
            "image/png": "[encoded data removed]"
          },
          "metadata": {}
        }
      ]
    },
    {
      "cell_type": "markdown",
      "source": [
        "#### 2-1. Construct Linear model  \n",
        "This contains parameter $\\theta$ which is an optimization variable and forward method which returns $\\theta_0x+\\theta_1$."
      ],
      "metadata": {
        "id": "r0ps-4u7XMzA"
      }
    },
    {
      "cell_type": "code",
      "source": [
        "#linear model\n",
        "class LinearRegression(nn.Module):\n",
        "  def __init__(self):\n",
        "    super(LinearRegression,self).__init__()\n",
        "    #define parameter\n",
        "    self.theta = nn.Parameter(torch.zeros(2))\n",
        "\n",
        "  def forward(self,x):\n",
        "    return self.theta[0] * x + self.theta[1]\n",
        "\n",
        "model = LinearRegression()\n",
        "model.theta #requires_grad=True"
      ],
      "metadata": {
        "colab": {
          "base_uri": "https://localhost:8080/"
        },
        "id": "WdD6hHrwMOvL",
        "outputId": "55551817-a3bc-460f-cc9b-30185e1c0d77"
      },
      "execution_count": null,
      "outputs": [
        {
          "output_type": "execute_result",
          "data": {
            "text/plain": [
              "Parameter containing:\n",
              "tensor([0., 0.], requires_grad=True)"
            ]
          },
          "metadata": {},
          "execution_count": 3
        }
      ]
    },
    {
      "cell_type": "markdown",
      "source": [
        "#### 2-2. Main loop  \n",
        "* we use SGD optimizer\n",
        "* we use MSE(Mean Squared Error), i.e. $L(\\theta;X,y):=\\frac{1}{N}\\Sigma_{i=1}^N (f_\\theta(x_i)-y_i)^2$  \n",
        "* Repeat (1) reset gradient (2) backward propagation (3) update parameter"
      ],
      "metadata": {
        "id": "hwFERpa3YBlS"
      }
    },
    {
      "cell_type": "code",
      "source": [
        "# loop\n",
        "n_epochs = 200\n",
        "\n",
        "#optimizer\n",
        "optimizer = optim.SGD(model.parameters(), lr=0.001)\n",
        "\n",
        "loss_list = list()\n",
        "\n",
        "for e in range(n_epochs):\n",
        "  pred = model(X) #y_hat\n",
        "  loss = torch.sum((pred - y)**2)/len(X)\n",
        "  loss_list.append(loss.item())\n",
        "\n",
        "  optimizer.zero_grad()\n",
        "  loss.backward()\n",
        "  optimizer.step()"
      ],
      "metadata": {
        "id": "Bj0f7VG8Vvg9"
      },
      "execution_count": null,
      "outputs": []
    },
    {
      "cell_type": "markdown",
      "source": [
        "#### 2-3. Check the results  \n",
        "Observe the obtained $\\theta$"
      ],
      "metadata": {
        "id": "tw6pRxuyeHUs"
      }
    },
    {
      "cell_type": "code",
      "source": [
        "model.theta"
      ],
      "metadata": {
        "colab": {
          "base_uri": "https://localhost:8080/"
        },
        "id": "GZLua04kMOk8",
        "outputId": "1435c65d-d571-4f56-ef96-0cb571e0f00c"
      },
      "execution_count": null,
      "outputs": [
        {
          "output_type": "execute_result",
          "data": {
            "text/plain": [
              "Parameter containing:\n",
              "tensor([2.0128, 0.1800], requires_grad=True)"
            ]
          },
          "metadata": {},
          "execution_count": 5
        }
      ]
    },
    {
      "cell_type": "markdown",
      "source": [
        "Plot the training loss"
      ],
      "metadata": {
        "id": "EX4rLuobeT65"
      }
    },
    {
      "cell_type": "code",
      "source": [
        "plt.plot(loss_list)\n",
        "plt.show()"
      ],
      "metadata": {
        "colab": {
          "base_uri": "https://localhost:8080/",
          "height": 430
        },
        "id": "jl7hgPxCMOib",
        "outputId": "5c7d16ed-8630-46cf-e689-b9b1c5527971"
      },
      "execution_count": null,
      "outputs": [
        {
          "output_type": "display_data",
          "data": {
            "text/plain": [
              "<Figure size 640x480 with 1 Axes>"
            ],
            "image/png": "[encoded data removed]"
          },
          "metadata": {}
        }
      ]
    },
    {
      "cell_type": "markdown",
      "source": [
        "Visualize the obtained model and compare to the true answer"
      ],
      "metadata": {
        "id": "Ky2ysvPVeZns"
      }
    },
    {
      "cell_type": "code",
      "source": [
        "# true answer: y = 2 * x- 1\n",
        "plt.plot(X,y,'o')\n",
        "plt.plot(X,2*X-1,'r',label='ground truth')\n",
        "pred = [yhat.detach() for yhat in model(X)]\n",
        "plt.plot(X,pred,'g',label='linear reg')\n",
        "plt.legend()\n",
        "plt.show()"
      ],
      "metadata": {
        "colab": {
          "base_uri": "https://localhost:8080/",
          "height": 430
        },
        "id": "S4pLyIbjMOe9",
        "outputId": "4f333a64-eda3-4e7c-f961-55825cf5d111"
      },
      "execution_count": null,
      "outputs": [
        {
          "output_type": "display_data",
          "data": {
            "text/plain": [
              "<Figure size 640x480 with 1 Axes>"
            ],
            "image/png": "[encoded data removed]"
          },
          "metadata": {}
        }
      ]
    },
    {
      "cell_type": "markdown",
      "source": [
        "###3 . Logistic regression  \n",
        "In this part, we implement logistic model to deal with titanic dataset.  \n",
        "You have personal information dataset($X$) of passenger in titanic and binary label($y$) which indicates whether the passenger has survived.  "
      ],
      "metadata": {
        "id": "Duu3PhD6etqb"
      }
    },
    {
      "cell_type": "markdown",
      "source": [
        "Binary classification can be solved by regression.  \n",
        "You will construct model $f_\\theta$ so that estimate $p(y=1|x)\\approx\\frac{1}{1+e^{-f_\\theta (x)}}$.  \n",
        "If $f_\\theta(x_i)\\ge0$(i.e. estimated $p(y=1|x)\\ge0.5$) then make a prediction $\\hat y_i=1$, otherwise, $\\hat y_i=0$"
      ],
      "metadata": {
        "id": "KRtBPAGlgSU3"
      }
    },
    {
      "cell_type": "markdown",
      "source": [
        "We find $\\theta$ such that $p(y=1|x)\\approx\\frac{1}{1+e^{-f_\\theta (x)}}$ under parameterizations  \n",
        "3-1. $f_\\theta(x)=\\theta^Tx$  \n",
        "3-2. $f_\\theta(x)=NN(x;\\theta)$ where NN is a Neural Network with weights $\\theta$"
      ],
      "metadata": {
        "id": "t0UUvs0FiqAO"
      }
    },
    {
      "cell_type": "markdown",
      "source": [
        "#### 3-1. Logistic regression with linear model"
      ],
      "metadata": {
        "id": "ezK0bcRP7NQ_"
      }
    },
    {
      "cell_type": "markdown",
      "source": [
        "Import the required packages and fix seed for reproduction"
      ],
      "metadata": {
        "id": "D0J5fwCWht88"
      }
    },
    {
      "cell_type": "code",
      "source": [
        "from sklearn.model_selection import train_test_split\n",
        "from sklearn.preprocessing import StandardScaler\n",
        "from sklearn.linear_model import LogisticRegression\n",
        "from sklearn.metrics import accuracy_score"
      ],
      "metadata": {
        "id": "A3MB6GAp8KZK"
      },
      "execution_count": null,
      "outputs": []
    },
    {
      "cell_type": "code",
      "execution_count": null,
      "metadata": {
        "id": "q_7CdhJW7GKP"
      },
      "outputs": [],
      "source": [
        "import pandas as pd\n",
        "import requests\n",
        "from io import StringIO\n",
        "import numpy as np\n",
        "from matplotlib import pyplot as plt\n",
        "\n",
        "# URL to the Titanic dataset\n",
        "url = \"https://web.stanford.edu/class/archive/cs/cs109/cs109.1166/stuff/titanic.csv\"\n",
        "\n",
        "# Make a GET request to the URL and read the content into a pandas DataFrame\n",
        "response = requests.get(url).text\n",
        "data = pd.read_csv(StringIO(response))"
      ]
    },
    {
      "cell_type": "markdown",
      "source": [
        "Observe the dataset"
      ],
      "metadata": {
        "id": "KV5yLM2JhzGG"
      }
    },
    {
      "cell_type": "code",
      "source": [
        "# Display the first few rows of the dataset\n",
        "print(data.head())"
      ],
      "metadata": {
        "colab": {
          "base_uri": "https://localhost:8080/"
        },
        "id": "MI7dnknW8PhX",
        "outputId": "9eccb657-c88b-4390-94e8-091f90b0b863"
      },
      "execution_count": null,
      "outputs": [
        {
          "output_type": "stream",
          "name": "stdout",
          "text": [
            "   Survived  Pclass                                               Name  \\\n",
            "0         0       3                             Mr. Owen Harris Braund   \n",
            "1         1       1  Mrs. John Bradley (Florence Briggs Thayer) Cum...   \n",
            "2         1       3                              Miss. Laina Heikkinen   \n",
            "3         1       1        Mrs. Jacques Heath (Lily May Peel) Futrelle   \n",
            "4         0       3                            Mr. William Henry Allen   \n",
            "\n",
            "      Sex   Age  Siblings/Spouses Aboard  Parents/Children Aboard     Fare  \n",
            "0    male  22.0                        1                        0   7.2500  \n",
            "1  female  38.0                        1                        0  71.2833  \n",
            "2  female  26.0                        0                        0   7.9250  \n",
            "3  female  35.0                        1                        0  53.1000  \n",
            "4    male  35.0                        0                        0   8.0500  \n"
          ]
        }
      ]
    },
    {
      "cell_type": "markdown",
      "source": [
        "####Data preprocessing  \n",
        "* There are some missing data. Among several methods to deal with missing data, we just drop them in this practice.  \n",
        "* Express 'Pclass' and 'Sex' with one-hot encoding and delete the first element for memory efficiency.  \n",
        "Originally, 'Pclass'$\\in${1,2,3} and 'Sex'$\\in${'female','male'}. Let us give you some examples for processing.    \n",
        "  * e.g. 'Pclass'=1$\\to$'Pclass'=[1,0,0]$\\to$'Pclass'=[0,0](drop the first)\n",
        "  * e.g. 'Sex'='female'$\\to$'Sex'=[1,0]$\\to$'Sex'=0(drop the first)"
      ],
      "metadata": {
        "id": "WIRpd56aiscR"
      }
    },
    {
      "cell_type": "code",
      "source": [
        "# Preprocessing\n",
        "data.dropna(subset=['Age', 'Fare'], inplace=True) # empty -> drop\n",
        "X = data[['Pclass', 'Sex', 'Age', 'Fare']]\n",
        "y = data['Survived']\n",
        "X = pd.get_dummies(X, columns=['Pclass', 'Sex'], drop_first=True) # one-hot encoding\n",
        "# drop the first to reduce complexity e.g. Pclass=3->001->00, Pclass=1->100->00, male->1, female->0"
      ],
      "metadata": {
        "id": "tz2C4tjp8VHP"
      },
      "execution_count": null,
      "outputs": []
    },
    {
      "cell_type": "code",
      "source": [
        "print(X.head())"
      ],
      "metadata": {
        "colab": {
          "base_uri": "https://localhost:8080/"
        },
        "id": "wWX9mtj48VFX",
        "outputId": "070f4d0e-6723-4361-8e67-e5319125789b"
      },
      "execution_count": null,
      "outputs": [
        {
          "output_type": "stream",
          "name": "stdout",
          "text": [
            "    Age     Fare  Pclass_2  Pclass_3  Sex_male\n",
            "0  22.0   7.2500         0         1         1\n",
            "1  38.0  71.2833         0         0         0\n",
            "2  26.0   7.9250         0         1         0\n",
            "3  35.0  53.1000         0         0         0\n",
            "4  35.0   8.0500         0         1         1\n"
          ]
        }
      ]
    },
    {
      "cell_type": "markdown",
      "source": [
        "Split the dataset into training and test dataset and scale them"
      ],
      "metadata": {
        "id": "kU-LI7J4jTul"
      }
    },
    {
      "cell_type": "code",
      "source": [
        "# Split the data into training and testing sets\n",
        "X_train, X_test, y_train, y_test = train_test_split(X, y, test_size=0.2, random_state=42)\n",
        "\n",
        "# Feature scaling\n",
        "scaler = StandardScaler()\n",
        "X_train_scaled = scaler.fit_transform(X_train)\n",
        "X_test_scaled = scaler.transform(X_test)"
      ],
      "metadata": {
        "id": "vQbHDqec8VBu"
      },
      "execution_count": null,
      "outputs": []
    },
    {
      "cell_type": "markdown",
      "source": [
        "####Implement logistic regression and check the accuracy"
      ],
      "metadata": {
        "id": "QrwwgSUDk5Fe"
      }
    },
    {
      "cell_type": "code",
      "source": [
        "# Logistic Regression\n",
        "model = LogisticRegression(penalty=None)\n",
        "model.fit(X_train_scaled, y_train)"
      ],
      "metadata": {
        "colab": {
          "base_uri": "https://localhost:8080/",
          "height": 75
        },
        "id": "HBARxR3N8U9o",
        "outputId": "3f4d60d9-7b32-41a8-aa85-65bc80d1d846"
      },
      "execution_count": null,
      "outputs": [
        {
          "output_type": "execute_result",
          "data": {
            "text/plain": [
              "LogisticRegression(penalty=None)"
            ],
            "text/html": [
              "<style>#sk-container-id-1 {color: black;background-color: white;}#sk-container-id-1 pre{padding: 0;}#sk-container-id-1 div.sk-toggleable {background-color: white;}#sk-container-id-1 label.sk-toggleable__label {cursor: pointer;display: block;width: 100%;margin-bottom: 0;padding: 0.3em;box-sizing: border-box;text-align: center;}#sk-container-id-1 label.sk-toggleable__label-arrow:before {content: \"▸\";float: left;margin-right: 0.25em;color: #696969;}#sk-container-id-1 label.sk-toggleable__label-arrow:hover:before {color: black;}#sk-container-id-1 div.sk-estimator:hover label.sk-toggleable__label-arrow:before {color: black;}#sk-container-id-1 div.sk-toggleable__content {max-height: 0;max-width: 0;overflow: hidden;text-align: left;background-color: #f0f8ff;}#sk-container-id-1 div.sk-toggleable__content pre {margin: 0.2em;color: black;border-radius: 0.25em;background-color: #f0f8ff;}#sk-container-id-1 input.sk-toggleable__control:checked~div.sk-toggleable__content {max-height: 200px;max-width: 100%;overflow: auto;}#sk-container-id-1 input.sk-toggleable__control:checked~label.sk-toggleable__label-arrow:before {content: \"▾\";}#sk-container-id-1 div.sk-estimator input.sk-toggleable__control:checked~label.sk-toggleable__label {background-color: #d4ebff;}#sk-container-id-1 div.sk-label input.sk-toggleable__control:checked~label.sk-toggleable__label {background-color: #d4ebff;}#sk-container-id-1 input.sk-hidden--visually {border: 0;clip: rect(1px 1px 1px 1px);clip: rect(1px, 1px, 1px, 1px);height: 1px;margin: -1px;overflow: hidden;padding: 0;position: absolute;width: 1px;}#sk-container-id-1 div.sk-estimator {font-family: monospace;background-color: #f0f8ff;border: 1px dotted black;border-radius: 0.25em;box-sizing: border-box;margin-bottom: 0.5em;}#sk-container-id-1 div.sk-estimator:hover {background-color: #d4ebff;}#sk-container-id-1 div.sk-parallel-item::after {content: \"\";width: 100%;border-bottom: 1px solid gray;flex-grow: 1;}#sk-container-id-1 div.sk-label:hover label.sk-toggleable__label {background-color: #d4ebff;}#sk-container-id-1 div.sk-serial::before {content: \"\";position: absolute;border-left: 1px solid gray;box-sizing: border-box;top: 0;bottom: 0;left: 50%;z-index: 0;}#sk-container-id-1 div.sk-serial {display: flex;flex-direction: column;align-items: center;background-color: white;padding-right: 0.2em;padding-left: 0.2em;position: relative;}#sk-container-id-1 div.sk-item {position: relative;z-index: 1;}#sk-container-id-1 div.sk-parallel {display: flex;align-items: stretch;justify-content: center;background-color: white;position: relative;}#sk-container-id-1 div.sk-item::before, #sk-container-id-1 div.sk-parallel-item::before {content: \"\";position: absolute;border-left: 1px solid gray;box-sizing: border-box;top: 0;bottom: 0;left: 50%;z-index: -1;}#sk-container-id-1 div.sk-parallel-item {display: flex;flex-direction: column;z-index: 1;position: relative;background-color: white;}#sk-container-id-1 div.sk-parallel-item:first-child::after {align-self: flex-end;width: 50%;}#sk-container-id-1 div.sk-parallel-item:last-child::after {align-self: flex-start;width: 50%;}#sk-container-id-1 div.sk-parallel-item:only-child::after {width: 0;}#sk-container-id-1 div.sk-dashed-wrapped {border: 1px dashed gray;margin: 0 0.4em 0.5em 0.4em;box-sizing: border-box;padding-bottom: 0.4em;background-color: white;}#sk-container-id-1 div.sk-label label {font-family: monospace;font-weight: bold;display: inline-block;line-height: 1.2em;}#sk-container-id-1 div.sk-label-container {text-align: center;}#sk-container-id-1 div.sk-container {/* jupyter's `normalize.less` sets `[hidden] { display: none; }` but bootstrap.min.css set `[hidden] { display: none !important; }` so we also need the `!important` here to be able to override the default hidden behavior on the sphinx rendered scikit-learn.org. See: https://github.com/scikit-learn/scikit-learn/issues/21755 */display: inline-block !important;position: relative;}#sk-container-id-1 div.sk-text-repr-fallback {display: none;}</style><div id=\"sk-container-id-1\" class=\"sk-top-container\"><div class=\"sk-text-repr-fallback\"><pre>LogisticRegression(penalty=None)</pre><b>In a Jupyter environment, please rerun this cell to show the HTML representation or trust the notebook. <br />On GitHub, the HTML representation is unable to render, please try loading this page with nbviewer.org.</b></div><div class=\"sk-container\" hidden><div class=\"sk-item\"><div class=\"sk-estimator sk-toggleable\"><input class=\"sk-toggleable__control sk-hidden--visually\" id=\"sk-estimator-id-1\" type=\"checkbox\" checked><label for=\"sk-estimator-id-1\" class=\"sk-toggleable__label sk-toggleable__label-arrow\">LogisticRegression</label><div class=\"sk-toggleable__content\"><pre>LogisticRegression(penalty=None)</pre></div></div></div></div></div>"
            ]
          },
          "metadata": {},
          "execution_count": 16
        }
      ]
    },
    {
      "cell_type": "code",
      "source": [
        "# train accuracy\n",
        "y_pred_train = model.predict(X_train_scaled)\n",
        "accuracy_train = accuracy_score(y_train, y_pred_train)\n",
        "print(\"Train Accuracy:\", accuracy_train)"
      ],
      "metadata": {
        "colab": {
          "base_uri": "https://localhost:8080/"
        },
        "id": "pCofJib_A98P",
        "outputId": "96e32c18-5b32-4a8f-8d29-05cad266f6bc"
      },
      "execution_count": null,
      "outputs": [
        {
          "output_type": "stream",
          "name": "stdout",
          "text": [
            "Train Accuracy: 0.8124118476727785\n"
          ]
        }
      ]
    },
    {
      "cell_type": "code",
      "source": [
        "# Predictions\n",
        "y_pred = model.predict(X_test_scaled)"
      ],
      "metadata": {
        "id": "Yn1ODmDQ8U6H"
      },
      "execution_count": null,
      "outputs": []
    },
    {
      "cell_type": "code",
      "source": [
        "# Evaluate the model\n",
        "accuracy = accuracy_score(y_test, y_pred)\n",
        "print(\"Accuracy:\", accuracy)"
      ],
      "metadata": {
        "colab": {
          "base_uri": "https://localhost:8080/"
        },
        "id": "uQ1AUz2y8U2n",
        "outputId": "de673553-84d7-4b75-d6fc-95ffa23c5955"
      },
      "execution_count": null,
      "outputs": [
        {
          "output_type": "stream",
          "name": "stdout",
          "text": [
            "Accuracy: 0.7528089887640449\n"
          ]
        }
      ]
    },
    {
      "cell_type": "code",
      "source": [
        "model.coef_"
      ],
      "metadata": {
        "colab": {
          "base_uri": "https://localhost:8080/"
        },
        "id": "cMrHT4MNIu3W",
        "outputId": "ca44350f-e249-4ed0-ea95-7fcfc4ed006a"
      },
      "execution_count": null,
      "outputs": [
        {
          "output_type": "execute_result",
          "data": {
            "text/plain": [
              "array([[-0.39683152,  0.07335399, -0.37556721, -1.13493448, -1.29807946]])"
            ]
          },
          "metadata": {},
          "execution_count": 20
        }
      ]
    },
    {
      "cell_type": "markdown",
      "source": [
        "#### 3-2. Logistic regression with neural network"
      ],
      "metadata": {
        "id": "x5n0Z0vrAFrI"
      }
    },
    {
      "cell_type": "markdown",
      "source": [
        "Import the required packages"
      ],
      "metadata": {
        "id": "N4y6f3YJplfv"
      }
    },
    {
      "cell_type": "code",
      "source": [
        "import torch\n",
        "import torch.nn as nn\n",
        "import torch.nn.functional as F\n",
        "import torch.optim as optim"
      ],
      "metadata": {
        "id": "9WEXhEUyANFn"
      },
      "execution_count": null,
      "outputs": []
    },
    {
      "cell_type": "markdown",
      "source": [
        "convert dataset to tensor"
      ],
      "metadata": {
        "id": "X4LZqcXApxgZ"
      }
    },
    {
      "cell_type": "code",
      "source": [
        "# use the X_train_scaled X_test_scaled y_train y_pred\n",
        "# CE with one-hot\n",
        "X_train_tensor = torch.tensor(X_train_scaled, dtype=torch.float32) #, requires_grad=True)\n",
        "X_test_tensor = torch.tensor(X_test_scaled, dtype=torch.float32) #, requires_grad=True)\n",
        "y_train_tensor = y_train.astype(float)\n",
        "y_test_tensor = y_test.astype(float)\n",
        "y_train_tensor = torch.tensor(y_train_tensor.values, dtype=torch.long)\n",
        "y_test_tensor = torch.tensor(y_test_tensor.values, dtype=torch.long)"
      ],
      "metadata": {
        "id": "rfs0egXGAMgP"
      },
      "execution_count": null,
      "outputs": []
    },
    {
      "cell_type": "markdown",
      "source": [
        "####Function approximation\n",
        "* Construct a network $f_\\theta$\n",
        "* Observe the parameters in your model"
      ],
      "metadata": {
        "id": "PucdOqPVp430"
      }
    },
    {
      "cell_type": "code",
      "source": [
        "class NN(nn.Module):\n",
        "  def __init__(self):\n",
        "    super(NN,self).__init__()\n",
        "    self.fc1 = nn.Linear(5,8)\n",
        "    self.fc2 = nn.Linear(8,1)\n",
        "    self.activation = nn.ReLU()\n",
        "\n",
        "  def forward(self,x):\n",
        "    #x = F.relu(self.fc1(x))\n",
        "    x = self.fc1(x)\n",
        "    x = self.activation(x)\n",
        "    x = self.fc2(x)\n",
        "    return x"
      ],
      "metadata": {
        "id": "QzspfEIxANDm"
      },
      "execution_count": null,
      "outputs": []
    },
    {
      "cell_type": "code",
      "source": [
        "regmodel=NN() #regression model\n",
        "regmodel.to(torch.float32)\n",
        "param=list(regmodel.parameters())\n",
        "print(param)"
      ],
      "metadata": {
        "colab": {
          "base_uri": "https://localhost:8080/"
        },
        "id": "EXbG8EwPANCP",
        "outputId": "b6450268-0eb3-4d92-e431-8caef8e7a2c6"
      },
      "execution_count": null,
      "outputs": [
        {
          "output_type": "stream",
          "name": "stdout",
          "text": [
            "[Parameter containing:\n",
            "tensor([[-0.1953,  0.1502,  0.2574,  0.0063, -0.1740],\n",
            "        [ 0.2449, -0.2451, -0.1050,  0.4219,  0.0824],\n",
            "        [ 0.0315,  0.1508, -0.1091,  0.3826, -0.3648],\n",
            "        [-0.1230, -0.0773, -0.1840, -0.1107,  0.2772],\n",
            "        [ 0.2454,  0.0249,  0.3896, -0.3158, -0.2667],\n",
            "        [ 0.2021, -0.0240, -0.4075, -0.3095, -0.2722],\n",
            "        [ 0.3453,  0.2025,  0.3460, -0.3329, -0.4360],\n",
            "        [-0.2933,  0.0478, -0.0883, -0.2818,  0.3256]], requires_grad=True), Parameter containing:\n",
            "tensor([-0.1442, -0.2587,  0.2066, -0.1205,  0.2851,  0.1066,  0.0110,  0.0939],\n",
            "       requires_grad=True), Parameter containing:\n",
            "tensor([[-0.2657, -0.1892, -0.1662, -0.2001,  0.0627,  0.0706, -0.1469,  0.2305]],\n",
            "       requires_grad=True), Parameter containing:\n",
            "tensor([-0.1967], requires_grad=True)]\n"
          ]
        }
      ]
    },
    {
      "cell_type": "markdown",
      "source": [
        "####CrossEntropyLoss(K-dimensianal vector, label among 0~K-1)  \n",
        "$CE(x,y)=-\\Sigma_k \\mathbb{I}_{y=k} \\log\\frac{e^{x_k}}{\\Sigma_j e^{x_j}}=-\\log\\frac{e^{x_y}}{\\Sigma_j e^{x_j}}$ where $\\mathbb{I}$ is an indicator function.   \n",
        "Let $\\sigma(x) = NN(x;\\theta)$. Then, $h(\\sigma(x))=\\frac{1}{1+e^{-\\sigma(x)}}$ indicates $P(y=1|x)$.  \n",
        "You will use cross-entropy loss in the main loop."
      ],
      "metadata": {
        "id": "sj7avYh6htdZ"
      }
    },
    {
      "cell_type": "markdown",
      "source": [
        "####Main loop  \n",
        "* Define your optimizer\n",
        "* Use cross-entropy loss for your loss function. You can use nn.CrossEntropyLoss().\n",
        "* Note that you cannot put $\\sigma(x)$ directly into nn.CrossEntropyLoss().  \n",
        " To make a proper argument for nn.CrossEntropyLoss(), make a probability distribution with $\\sigma(x)$ as suggested above."
      ],
      "metadata": {
        "id": "B8tuTw5-rH3n"
      }
    },
    {
      "cell_type": "markdown",
      "source": [
        "**Exercise 1.**   \n",
        "Design the cross-entropy loss.  \n",
        "Hint. Considering that $h(\\sigma(x))=\\frac{1}{1+e^{-\\sigma(x)}}$ estimates $P(y=1|x)$, which one is correct,  \n",
        " nn.CrossEntropyLoss$((0,\\sigma(x)),y)$ or nn.CrossEntropyLoss$((\\sigma(x),0),y)$?"
      ],
      "metadata": {
        "id": "6Nt1tia9Pv4t"
      }
    },
    {
      "cell_type": "code",
      "source": [
        "# Define your loss function\n",
        "criterion = nn.CrossEntropyLoss()\n",
        "\n",
        "# Create an optimizer\n",
        "#optimizer = optim.SGD(regmodel.parameters(), lr=0.01)\n",
        "optimizer = optim.Adam(regmodel.parameters(), lr=0.01)\n",
        "\n",
        "num_epochs = 3000\n",
        "\n",
        "loss_list2=list()\n",
        "\n",
        "# Training loop\n",
        "for epoch in range(num_epochs):\n",
        "    optimizer.zero_grad()  # Zero the gradients\n",
        "\n",
        "    ###### Task 1 ######\n",
        "    out = regmodel(X_train_tensor)                     # Forward pass\n",
        "    p=torch.cat((torch.zeros_like(out),out),dim=1)     # binary probability distribution\n",
        "    loss = criterion(p, y_train_tensor)                # Compute the loss\n",
        "    ####################\n",
        "\n",
        "    loss_list2.append(loss)\n",
        "    loss.backward()        # Backpropagate to compute gradients\n",
        "    optimizer.step()       # Update the model's parameters"
      ],
      "metadata": {
        "id": "IRNM_IbfnMUt"
      },
      "execution_count": null,
      "outputs": []
    },
    {
      "cell_type": "markdown",
      "source": [
        "####Results"
      ],
      "metadata": {
        "id": "qmhYXGPDsNKP"
      }
    },
    {
      "cell_type": "code",
      "source": [
        "plt.plot([tensor.detach().numpy() for tensor in loss_list2])\n",
        "plt.show()"
      ],
      "metadata": {
        "colab": {
          "base_uri": "https://localhost:8080/",
          "height": 430
        },
        "id": "_igjFuzJIMP-",
        "outputId": "0ea2bd47-c3a9-4213-9d3c-c76370a9dbb2"
      },
      "execution_count": null,
      "outputs": [
        {
          "output_type": "display_data",
          "data": {
            "text/plain": [
              "<Figure size 640x480 with 1 Axes>"
            ],
            "image/png": "[encoded data removed]"
          },
          "metadata": {}
        }
      ]
    },
    {
      "cell_type": "markdown",
      "source": [
        "**Exercise 2.**  \n",
        "Calculate the test accuracy of your \"regmodel\".  \n",
        "Your \"regmodel\" gets passenger information($x$) and returns $\\sigma(x)$. From the main loop above, your \"regmodel\" has trained to satisfy $\\frac{1}{1+e^{-\\sigma(x)}}\\approx P(y=1|x)$.  \n",
        "making prediction:  \n",
        "* If $P(y=1|x)\\ge0.5$, take prediction($\\hat y$) as 1\n",
        "* If $P(y=1|x)<0.5$, take prediction($\\hat y$) as 0  \n",
        "\n",
        "Your accuracy will be average of the number of data such that prediction matches the true label, i.e., $accuracy=\\frac{1}{N}\\Sigma_{i=1}^N\\mathbb{I}_{\\hat y_i=y_i}$."
      ],
      "metadata": {
        "id": "XrVUdO26RLwW"
      }
    },
    {
      "cell_type": "code",
      "source": [
        "###### Task 2 ######\n",
        "### calculate your test accuracy, named \"acc\" ###\n",
        "y_pred2 = [1 if regmodel(X_test_tensor[i])>=0 else 0 for i in range(len(X_test_tensor))]\n",
        "acc = np.mean([y_pred2[i] == y_test_tensor[i] for i in range(len(y_pred2))])\n",
        "####################\n",
        "print(\"Accuracy: \",acc)"
      ],
      "metadata": {
        "colab": {
          "base_uri": "https://localhost:8080/"
        },
        "id": "LiCtWIsqnMPO",
        "outputId": "4a3f2a6f-b9c6-4cef-c558-34d3cf3cd958"
      },
      "execution_count": null,
      "outputs": [
        {
          "output_type": "stream",
          "name": "stdout",
          "text": [
            "Accuracy:  0.8089887640449438\n"
          ]
        }
      ]
    },
    {
      "cell_type": "code",
      "source": [
        "# Check whether it shows the same result with metric accuracy_score\n",
        "\n",
        "# Predictions\n",
        "y_pred3 = regmodel(X_test_tensor)\n",
        "y_pred3 = [y3.detach().numpy()>=0 for y3 in y_pred3]\n",
        "\n",
        "# Convert true labels tensor to numpy array\n",
        "y_test_np = y_test_tensor.numpy()\n",
        "\n",
        "# Evaluate the model\n",
        "accuracy = accuracy_score(y_test_np, y_pred3)\n",
        "print(\"Accuracy:\", accuracy)"
      ],
      "metadata": {
        "colab": {
          "base_uri": "https://localhost:8080/"
        },
        "id": "papfvIYFQ-h5",
        "outputId": "84678b6f-d797-4a85-d770-7e5259b5b6eb"
      },
      "execution_count": null,
      "outputs": [
        {
          "output_type": "stream",
          "name": "stdout",
          "text": [
            "Accuracy: 0.8089887640449438\n"
          ]
        }
      ]
    }
  ]
}