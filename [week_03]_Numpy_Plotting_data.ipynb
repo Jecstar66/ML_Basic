{
  "cells": [
    {
      "cell_type": "markdown",
      "metadata": {
        "id": "BtdMyK3VjZMT"
      },
      "source": [
        "## **[Week 3] NumPy & Plotting data**\n",
        "Today, we will learn about NumPy Basics and How to plot data."
      ]
    },
    {
      "cell_type": "markdown",
      "source": [
        "## **NumPy**\n",
        "\n",
        "1. NumPy is the fundamental package for scientific computing in Python and is used to perform computations on multi-dimensional data easily and effectively.\n",
        "2. Numpy provides a new data structure called arrays which allow efficient vector and matrix operations and a number of linear algebra operations"
      ],
      "metadata": {
        "id": "qVPMjt3Eb6lh"
      }
    },
    {
      "cell_type": "markdown",
      "metadata": {
        "id": "9WtAr1qFjgBc"
      },
      "source": [
        "### Import NumPy package\n",
        "\n"
      ]
    },
    {
      "cell_type": "code",
      "execution_count": null,
      "metadata": {
        "id": "ZtQUge1Ij6U_"
      },
      "outputs": [],
      "source": [
        "#Import numpy library\n",
        "import numpy as np"
      ]
    },
    {
      "cell_type": "markdown",
      "metadata": {
        "id": "BsaheuZzgSEC"
      },
      "source": [
        "### Scalar, Vector, Matrix, Tensor\n",
        "```np.array``` is a central data structure of the NumPy library"
      ]
    },
    {
      "cell_type": "code",
      "execution_count": null,
      "metadata": {
        "id": "weWPFtzzgSEC"
      },
      "outputs": [],
      "source": [
        "# define a scalar\n",
        "a = np.array(1)\n",
        "print('a = ', a.__repr__())\n",
        "print('dimension of a: ', a.ndim)\n",
        "print('shape of a: ', a.shape)\n",
        "\n",
        "# define a vector\n",
        "b = np.array([1., 2., 3.])\n",
        "print('\\nb = ', b.__repr__())\n",
        "print('dimension of b: ', b.ndim)\n",
        "print('shape of b: ', b.shape)\n",
        "\n",
        "# define a matrix\n",
        "c = np.array([[1., 2., 3.], [4., 5., 6.]])\n",
        "print('\\nc = ',c.__repr__())\n",
        "print('dimension of c: ', c.ndim)\n",
        "print('shape of c: ', c.shape)\n",
        "\n",
        "# define a tensor (N-dimensional array)\n",
        "d = np.array([[[[1., 2., 3.], [1., 2., 3.], [1., 2., 3.]],\n",
        "               [[4., 5., 6.], [4., 5., 6.], [4., 5., 6.]]],\n",
        "              [[[7., 8., 9.], [7., 8., 9.], [7., 8., 9.]],\n",
        "               [[10., 11., 12.], [10., 11., 12.], [10., 11., 12.]]]])\n",
        "print('\\nd = ',d.__repr__())\n",
        "print('dimension of d: ', d.ndim)\n",
        "print('shape of d: ', d.shape)"
      ]
    },
    {
      "cell_type": "markdown",
      "metadata": {
        "id": "v0O7ya42kHRo"
      },
      "source": [
        "### NumPy array creation functions\n",
        "NumPy provides many functions to define NumPy arrays"
      ]
    },
    {
      "cell_type": "code",
      "source": [
        "a = np.zeros(10)\n",
        "a, a.shape"
      ],
      "metadata": {
        "id": "pOjd7CZPfyfg"
      },
      "execution_count": null,
      "outputs": []
    },
    {
      "cell_type": "code",
      "source": [
        "a = np.ones(10)\n",
        "a, a.shape"
      ],
      "metadata": {
        "id": "O9hY7bIXfy_A"
      },
      "execution_count": null,
      "outputs": []
    },
    {
      "cell_type": "code",
      "source": [
        "a = np.arange(0, 10, 1)\n",
        "a, a.shape"
      ],
      "metadata": {
        "id": "JaGwVbnOfzOi"
      },
      "execution_count": null,
      "outputs": []
    },
    {
      "cell_type": "code",
      "source": [
        "a = np.linspace(0,2,9)\n",
        "a, a.shape"
      ],
      "metadata": {
        "id": "XZweoEzMfzhV"
      },
      "execution_count": null,
      "outputs": []
    },
    {
      "cell_type": "code",
      "source": [
        "a = np.random.random((2,3,4))\n",
        "a, a.shape"
      ],
      "metadata": {
        "id": "VdsLzYN2gN7I"
      },
      "execution_count": null,
      "outputs": []
    },
    {
      "cell_type": "code",
      "execution_count": null,
      "metadata": {
        "scrolled": true,
        "id": "oFAyv8QvgSED",
        "colab": {
          "base_uri": "https://localhost:8080/"
        },
        "outputId": "f5f697c5-a8ce-4f43-d9ea-91126ab7e341"
      },
      "outputs": [
        {
          "output_type": "stream",
          "name": "stdout",
          "text": [
            "int64\n",
            "float64\n"
          ]
        }
      ],
      "source": [
        "# Convert datatype of elements\n",
        "a = np.arange(10)\n",
        "print(a.dtype)   # original datatype\n",
        "\n",
        "b = a.astype(np.float64) # convert to float\n",
        "print(b.dtype)"
      ]
    },
    {
      "cell_type": "markdown",
      "metadata": {
        "id": "Muu34ANY5aNb"
      },
      "source": [
        "### Indexing & Slicing"
      ]
    },
    {
      "cell_type": "code",
      "execution_count": null,
      "metadata": {
        "id": "Q1p5MNGlww4-",
        "colab": {
          "base_uri": "https://localhost:8080/"
        },
        "outputId": "9f73692c-fe4e-4ca9-c417-1da715e84a6d"
      },
      "outputs": [
        {
          "output_type": "stream",
          "name": "stdout",
          "text": [
            "[1. 1. 1. 1. 1.]\n",
            "[6. 1. 1. 1. 2.]\n"
          ]
        }
      ],
      "source": [
        "# numpy arrays can be indexed.\n",
        "a = np.ones(5)\n",
        "print(a)\n",
        "\n",
        "a[0] = 6\n",
        "a[4] = 2\n",
        "print(a)"
      ]
    },
    {
      "cell_type": "code",
      "execution_count": null,
      "metadata": {
        "id": "v7j1W7xzgSEE"
      },
      "outputs": [],
      "source": [
        "# -1 indicates last element\n",
        "a[-1]"
      ]
    },
    {
      "cell_type": "code",
      "execution_count": null,
      "metadata": {
        "scrolled": true,
        "id": "ygP8yQONgSEE"
      },
      "outputs": [],
      "source": [
        "# include 0 index and exclude -1 (last) index of element\n",
        "a[0:-1]"
      ]
    },
    {
      "cell_type": "code",
      "execution_count": null,
      "metadata": {
        "id": "QSkD0WVTgSEE",
        "colab": {
          "base_uri": "https://localhost:8080/"
        },
        "outputId": "85215e7f-0e17-4b48-da11-2db2dccb6e47"
      },
      "outputs": [
        {
          "output_type": "execute_result",
          "data": {
            "text/plain": [
              "array([[ 1,  2,  3,  4],\n",
              "       [ 5,  6,  7,  8],\n",
              "       [ 9, 10, 11, 12]])"
            ]
          },
          "metadata": {},
          "execution_count": 5
        }
      ],
      "source": [
        "# for 2 dimensional array\n",
        "a = np.arange(1, 13).reshape(3, 4)\n",
        "a"
      ]
    },
    {
      "cell_type": "code",
      "execution_count": null,
      "metadata": {
        "id": "rn3Q_Ry7gSEE"
      },
      "outputs": [],
      "source": [
        "# indexing the first row\n",
        "a[0]"
      ]
    },
    {
      "cell_type": "code",
      "execution_count": null,
      "metadata": {
        "id": "2RiBSQBRgSEE"
      },
      "outputs": [],
      "source": [
        "# indexing second element of the first row\n",
        "a[0, 1]"
      ]
    },
    {
      "cell_type": "code",
      "execution_count": null,
      "metadata": {
        "id": "4BkjBhI5gSEE"
      },
      "outputs": [],
      "source": [
        "# slicing with respect to both 1 , 2 - dimensional elements\n",
        "a[0:3:2, 1:4:2]"
      ]
    },
    {
      "cell_type": "markdown",
      "source": [
        "### Shape Manipulation"
      ],
      "metadata": {
        "id": "c_2LN5Z6jQEp"
      }
    },
    {
      "cell_type": "code",
      "execution_count": null,
      "metadata": {
        "id": "Trl2ehzixpXm",
        "colab": {
          "base_uri": "https://localhost:8080/"
        },
        "outputId": "00914db7-56b7-4f2b-e192-4e111fdc0f88"
      },
      "outputs": [
        {
          "output_type": "stream",
          "name": "stdout",
          "text": [
            "[0 1 2 3 4 5 6 7 8 9] (10,)\n",
            "[[0 1 2 3 4]\n",
            " [5 6 7 8 9]] (2, 5)\n"
          ]
        }
      ],
      "source": [
        "# reshape\n",
        "\n",
        "a = np.arange(10)\n",
        "print(a, a.shape)\n",
        "\n",
        "b = a.reshape(2,5)\n",
        "print(b, b.shape)"
      ]
    },
    {
      "cell_type": "code",
      "execution_count": null,
      "metadata": {
        "id": "GXn17JpJgSEF",
        "colab": {
          "base_uri": "https://localhost:8080/"
        },
        "outputId": "f11f75c4-045e-4acb-c295-a98726b7aa6e"
      },
      "outputs": [
        {
          "output_type": "stream",
          "name": "stdout",
          "text": [
            "(10,)\n"
          ]
        },
        {
          "output_type": "execute_result",
          "data": {
            "text/plain": [
              "(1, 10)"
            ]
          },
          "metadata": {},
          "execution_count": 7
        }
      ],
      "source": [
        "# add an additional dimension\n",
        "print(a.shape)\n",
        "a[None].shape  # add extra dimension in first dim"
      ]
    },
    {
      "cell_type": "code",
      "execution_count": null,
      "metadata": {
        "id": "3si41v08gSEF",
        "colab": {
          "base_uri": "https://localhost:8080/"
        },
        "outputId": "e00cbd44-f801-4605-bab3-b9b37f8308cf"
      },
      "outputs": [
        {
          "output_type": "execute_result",
          "data": {
            "text/plain": [
              "(10, 1)"
            ]
          },
          "metadata": {},
          "execution_count": 8
        }
      ],
      "source": [
        "# add in second dim\n",
        "a[:, None].shape"
      ]
    },
    {
      "cell_type": "code",
      "execution_count": null,
      "metadata": {
        "id": "V5zFQfePgSEF",
        "colab": {
          "base_uri": "https://localhost:8080/"
        },
        "outputId": "5b7a84fe-5428-45ca-e285-8176d390b7d0"
      },
      "outputs": [
        {
          "output_type": "execute_result",
          "data": {
            "text/plain": [
              "(10, 1)"
            ]
          },
          "metadata": {},
          "execution_count": 9
        }
      ],
      "source": [
        "# add in last dim\n",
        "a[..., None].shape"
      ]
    },
    {
      "cell_type": "code",
      "execution_count": null,
      "metadata": {
        "id": "OtPnJprwgSEF",
        "colab": {
          "base_uri": "https://localhost:8080/"
        },
        "outputId": "ac5dbe92-44e3-4512-a27e-b14b156b0c14"
      },
      "outputs": [
        {
          "output_type": "execute_result",
          "data": {
            "text/plain": [
              "(1, 10)"
            ]
          },
          "metadata": {},
          "execution_count": 10
        }
      ],
      "source": [
        "# add in second last dim\n",
        "a[..., None, :].shape"
      ]
    },
    {
      "cell_type": "code",
      "source": [
        "# stack\n",
        "a = np.ones((3,2))\n",
        "b = np.zeros((3,2))\n",
        "print(np.vstack([a, b]))\n",
        "print(np.hstack([a, b]))"
      ],
      "metadata": {
        "id": "X4yJAuQijm6H",
        "colab": {
          "base_uri": "https://localhost:8080/"
        },
        "outputId": "0cbeeef0-65d6-42e0-e2e7-3d9e3706922a"
      },
      "execution_count": null,
      "outputs": [
        {
          "output_type": "stream",
          "name": "stdout",
          "text": [
            "[[1. 1.]\n",
            " [1. 1.]\n",
            " [1. 1.]\n",
            " [0. 0.]\n",
            " [0. 0.]\n",
            " [0. 0.]]\n",
            "[[1. 1. 0. 0.]\n",
            " [1. 1. 0. 0.]\n",
            " [1. 1. 0. 0.]]\n"
          ]
        }
      ]
    },
    {
      "cell_type": "code",
      "source": [
        "# concatenate\n",
        "print(np.concatenate([a, b], axis=0))\n",
        "print(np.concatenate([a, b], axis=1))"
      ],
      "metadata": {
        "id": "NTeJCZSzjt30",
        "colab": {
          "base_uri": "https://localhost:8080/"
        },
        "outputId": "59197d04-3fa4-4029-bb82-3860f2e1c6f1"
      },
      "execution_count": null,
      "outputs": [
        {
          "output_type": "stream",
          "name": "stdout",
          "text": [
            "[[1. 1.]\n",
            " [1. 1.]\n",
            " [1. 1.]\n",
            " [0. 0.]\n",
            " [0. 0.]\n",
            " [0. 0.]]\n",
            "[[1. 1. 0. 0.]\n",
            " [1. 1. 0. 0.]\n",
            " [1. 1. 0. 0.]]\n"
          ]
        }
      ]
    },
    {
      "cell_type": "code",
      "source": [
        "# matrix transpose\n",
        "a = np.arange(10).reshape(2,5)\n",
        "print(a)\n",
        "print(a.T)\n",
        "print(a.transpose())"
      ],
      "metadata": {
        "id": "jq-a1Wu3kJa2",
        "colab": {
          "base_uri": "https://localhost:8080/"
        },
        "outputId": "a13b5c5b-a0f1-4d65-fdc4-4d6bdf2aa744"
      },
      "execution_count": null,
      "outputs": [
        {
          "output_type": "stream",
          "name": "stdout",
          "text": [
            "[[0 1 2 3 4]\n",
            " [5 6 7 8 9]]\n",
            "[[0 5]\n",
            " [1 6]\n",
            " [2 7]\n",
            " [3 8]\n",
            " [4 9]]\n",
            "[[0 5]\n",
            " [1 6]\n",
            " [2 7]\n",
            " [3 8]\n",
            " [4 9]]\n"
          ]
        }
      ]
    },
    {
      "cell_type": "code",
      "source": [
        "# tensor transpose\n",
        "a = np.arange(24).reshape(2,3,4)\n",
        "print(a, a.shape)\n",
        "\n",
        "# swap axis 0 and 2\n",
        "b = np.transpose(a, [2, 1, 0])\n",
        "print(b, b.shape)"
      ],
      "metadata": {
        "id": "e8sLvhqJkURD",
        "colab": {
          "base_uri": "https://localhost:8080/"
        },
        "outputId": "89c3d64e-2e2a-4b9d-ed70-f5af8c061175"
      },
      "execution_count": null,
      "outputs": [
        {
          "output_type": "stream",
          "name": "stdout",
          "text": [
            "[[[ 0  1  2  3]\n",
            "  [ 4  5  6  7]\n",
            "  [ 8  9 10 11]]\n",
            "\n",
            " [[12 13 14 15]\n",
            "  [16 17 18 19]\n",
            "  [20 21 22 23]]] (2, 3, 4)\n",
            "[[[ 0 12]\n",
            "  [ 4 16]\n",
            "  [ 8 20]]\n",
            "\n",
            " [[ 1 13]\n",
            "  [ 5 17]\n",
            "  [ 9 21]]\n",
            "\n",
            " [[ 2 14]\n",
            "  [ 6 18]\n",
            "  [10 22]]\n",
            "\n",
            " [[ 3 15]\n",
            "  [ 7 19]\n",
            "  [11 23]]] (4, 3, 2)\n"
          ]
        }
      ]
    },
    {
      "cell_type": "markdown",
      "metadata": {
        "id": "ZdBNp8Gn5ewE"
      },
      "source": [
        "### Numpy Operations (Math)"
      ]
    },
    {
      "cell_type": "code",
      "execution_count": null,
      "metadata": {
        "id": "58MCYFcTjbUH",
        "colab": {
          "base_uri": "https://localhost:8080/"
        },
        "outputId": "2310726f-4fa6-4547-ce54-21da55910bdc"
      },
      "outputs": [
        {
          "output_type": "stream",
          "name": "stdout",
          "text": [
            "a =  array([0, 1, 2])\n",
            "b =  array([1, 2, 3])\n",
            "a =  [0 1 2]\n",
            "a + 5 =  [5 6 7]\n",
            "a^2 =  [0 1 4]\n",
            "sin(a) =  [0.         0.84147098 0.90929743]\n",
            "logical operation of a < 1:  [ True False False]\n"
          ]
        }
      ],
      "source": [
        "# Basic mathematical functions in the numpy module are available and operate elementwise on arrays.\n",
        "# support all basic numerical operations such as +. -. *, /, ** ..\n",
        "a = np.arange(0, 3, 1)\n",
        "b = np.arange(1, 4, 1)\n",
        "print('a = ', a.__repr__())\n",
        "print('b = ', b.__repr__(), end='\\n')\n",
        "\n",
        "print('a = ', a)\n",
        "print('a + 5 = ', a + 5)\n",
        "print('a^2 = ', a ** 2)\n",
        "print('sin(a) = ', np.sin(a))\n",
        "print('logical operation of a < 1: ', a < 1)"
      ]
    },
    {
      "cell_type": "code",
      "execution_count": null,
      "metadata": {
        "id": "bRXHUlQIgSEF"
      },
      "outputs": [],
      "source": [
        "# operator * is not vector multiplication but elementwise multiplication.\n",
        "print('array a = ', a)\n",
        "print('array b = ', b)\n",
        "a * b"
      ]
    },
    {
      "cell_type": "code",
      "execution_count": null,
      "metadata": {
        "id": "Cdz_jWE5gSEG"
      },
      "outputs": [],
      "source": [
        "# for vector multiplication, we use the dot function to compute inner products of vectors\n",
        "# 0*1 + 1*2 + 2*3 = 8\n",
        "np.dot(a, b), a@b"
      ]
    },
    {
      "cell_type": "code",
      "execution_count": null,
      "metadata": {
        "id": "WuwHj6LKyDdl"
      },
      "outputs": [],
      "source": [
        "# Matrix multiplication\n",
        "\n",
        "a = np.array([[1,2],[3,4]])\n",
        "b = np.array([[4,3],[2,1]])\n",
        "\n",
        "np.matmul(a,b), np.dot(a,b), a@b"
      ]
    },
    {
      "cell_type": "code",
      "execution_count": null,
      "metadata": {
        "id": "OtFbtKLNgSEJ"
      },
      "outputs": [],
      "source": [
        "# using np.ndarray.method()\n",
        "a = np.arange(6).reshape(2,3)\n",
        "print('array a = ', a)\n",
        "print('max value of each column: ', a.max(axis = 0)) # max of each column\n",
        "print('min value of each row:', a.min(axis = 1)) # min of each row\n",
        "print('sums of all elements:', a.sum()) # sum of all elements\n",
        "print('sums of each row:', a.sum(axis = 1)) # sum of each row\n",
        "print('max value of array (matrix) c:', a.max()) # max of c"
      ]
    },
    {
      "cell_type": "code",
      "execution_count": null,
      "metadata": {
        "id": "4U8q8jlbgSEK"
      },
      "outputs": [],
      "source": [
        "# take operation while keeping dimension\n",
        "np.sum(a, axis=0, keepdims=True)"
      ]
    },
    {
      "cell_type": "code",
      "execution_count": null,
      "metadata": {
        "id": "Np5wpt1AgSEK"
      },
      "outputs": [],
      "source": [
        "np.sum(a, axis=1, keepdims=True)"
      ]
    },
    {
      "cell_type": "markdown",
      "metadata": {
        "id": "wm5gY8i1pjZ1"
      },
      "source": [
        "### Broadcasting\n",
        "Broadcasting is a powerful mechanism that allows numpy to work with arrays of different shapes when computing mathematical operations."
      ]
    },
    {
      "cell_type": "code",
      "source": [
        "# Vector and scalar\n",
        "a = np.arange(3)\n",
        "b = 2.\n",
        "\n",
        "print(\"a = \", a, \"/ b = \", b)\n",
        "print(\"a+b = \", a+b)\n",
        "print(\"a-b = \", a-b)\n",
        "print(\"a*b = \", a*b)\n",
        "print(\"a/b = \", a/b)"
      ],
      "metadata": {
        "id": "mp-jWUYwpgOc",
        "colab": {
          "base_uri": "https://localhost:8080/"
        },
        "outputId": "442e4fd3-4d99-49ee-b5d8-533e78de5ff6"
      },
      "execution_count": null,
      "outputs": [
        {
          "output_type": "stream",
          "name": "stdout",
          "text": [
            "a =  [0 1 2] / b =  2.0\n",
            "a+b =  [2. 3. 4.]\n",
            "a-b =  [-2. -1.  0.]\n",
            "a*b =  [0. 2. 4.]\n",
            "a/b =  [0.  0.5 1. ]\n"
          ]
        }
      ]
    },
    {
      "cell_type": "code",
      "source": [
        "# Matrix and vector\n",
        "a = np.arange(1, 7).reshape(2, 3)\n",
        "b = np.arange(1, 4)\n",
        "\n",
        "print(\"a = \", a, \"/ b = \", b)\n",
        "print(\"a+b = \", a+b)\n",
        "print(\"a-b = \", a-b)\n",
        "print(\"a*b = \", a*b)\n",
        "print(\"a/b = \", a/b)"
      ],
      "metadata": {
        "id": "mSb9IDHvpgFF",
        "colab": {
          "base_uri": "https://localhost:8080/"
        },
        "outputId": "6490e399-45df-4e82-a927-df3e72fa91e4"
      },
      "execution_count": null,
      "outputs": [
        {
          "output_type": "stream",
          "name": "stdout",
          "text": [
            "a =  [[1 2 3]\n",
            " [4 5 6]] / b =  [1 2 3]\n",
            "a+b =  [[2 4 6]\n",
            " [5 7 9]]\n",
            "a-b =  [[0 0 0]\n",
            " [3 3 3]]\n",
            "a*b =  [[ 1  4  9]\n",
            " [ 4 10 18]]\n",
            "a/b =  [[1.  1.  1. ]\n",
            " [4.  2.5 2. ]]\n"
          ]
        }
      ]
    },
    {
      "cell_type": "code",
      "source": [
        "# Tensor and matrix\n",
        "a = np.arange(1, 13).reshape(2, 2, 3)\n",
        "b = np.arange(1, 7).reshape(2, 3)\n",
        "\n",
        "print(\"a = \", a, \"/ b = \", b)\n",
        "print(\"a+b = \", a+b)\n",
        "print(\"a-b = \", a-b)\n",
        "print(\"a*b = \", a*b)\n",
        "print(\"a/b = \", a/b)"
      ],
      "metadata": {
        "id": "jQ8DUwPwpf4y",
        "colab": {
          "base_uri": "https://localhost:8080/"
        },
        "outputId": "3995295f-51f1-426c-9db7-17ea5b3b4d43"
      },
      "execution_count": null,
      "outputs": [
        {
          "output_type": "stream",
          "name": "stdout",
          "text": [
            "a =  [[[ 1  2  3]\n",
            "  [ 4  5  6]]\n",
            "\n",
            " [[ 7  8  9]\n",
            "  [10 11 12]]] / b =  [[1 2 3]\n",
            " [4 5 6]]\n",
            "a+b =  [[[ 2  4  6]\n",
            "  [ 8 10 12]]\n",
            "\n",
            " [[ 8 10 12]\n",
            "  [14 16 18]]]\n",
            "a-b =  [[[0 0 0]\n",
            "  [0 0 0]]\n",
            "\n",
            " [[6 6 6]\n",
            "  [6 6 6]]]\n",
            "a*b =  [[[ 1  4  9]\n",
            "  [16 25 36]]\n",
            "\n",
            " [[ 7 16 27]\n",
            "  [40 55 72]]]\n",
            "a/b =  [[[1.  1.  1. ]\n",
            "  [1.  1.  1. ]]\n",
            "\n",
            " [[7.  4.  3. ]\n",
            "  [2.5 2.2 2. ]]]\n"
          ]
        }
      ]
    },
    {
      "cell_type": "markdown",
      "metadata": {
        "id": "oaEg599cgSEM"
      },
      "source": [
        "### Boolean Array Indexing (Masking)\n"
      ]
    },
    {
      "cell_type": "code",
      "execution_count": null,
      "metadata": {
        "id": "UF5h9zG3gSEM",
        "colab": {
          "base_uri": "https://localhost:8080/"
        },
        "outputId": "97cc08da-4022-4088-c613-9db71ee94671"
      },
      "outputs": [
        {
          "output_type": "stream",
          "name": "stdout",
          "text": [
            "a =  array([[1, 2, 3],\n",
            "       [4, 5, 6],\n",
            "       [7, 8, 9]])\n"
          ]
        }
      ],
      "source": [
        "a = np.arange(1, 10).reshape(3, 3)\n",
        "print('a = ', a.__repr__())"
      ]
    },
    {
      "cell_type": "code",
      "execution_count": null,
      "metadata": {
        "id": "v_nwmikjgSEM",
        "colab": {
          "base_uri": "https://localhost:8080/"
        },
        "outputId": "0098ed29-0810-4a52-eed1-435f7b5624b4"
      },
      "outputs": [
        {
          "output_type": "stream",
          "name": "stdout",
          "text": [
            "array([[False,  True, False],\n",
            "       [ True, False,  True],\n",
            "       [False,  True, False]])\n"
          ]
        }
      ],
      "source": [
        "# Support element-wise logical operation (return as True or False)\n",
        "even = a % 2 == 0\n",
        "print(even.__repr__())"
      ]
    },
    {
      "cell_type": "code",
      "execution_count": null,
      "metadata": {
        "id": "B81F_FnYgSEM",
        "colab": {
          "base_uri": "https://localhost:8080/"
        },
        "outputId": "8cd621d9-ea20-4d2a-e91c-af1011169085"
      },
      "outputs": [
        {
          "output_type": "execute_result",
          "data": {
            "text/plain": [
              "array([2, 4, 6, 8])"
            ]
          },
          "metadata": {},
          "execution_count": 20
        }
      ],
      "source": [
        "# indexing the elements corresponding to its True boolean index and return as a rank 1 array\n",
        "a[even]"
      ]
    },
    {
      "cell_type": "code",
      "source": [],
      "metadata": {
        "id": "Lh-RpiXzr6Ru"
      },
      "execution_count": null,
      "outputs": []
    },
    {
      "cell_type": "markdown",
      "metadata": {
        "id": "YWl2YSMh9jY3"
      },
      "source": [
        "### Copy in numpy\n",
        "\n",
        "3 cases of copying NumPy array"
      ]
    },
    {
      "cell_type": "code",
      "execution_count": null,
      "metadata": {
        "id": "5Z9CfjBk8pVU",
        "colab": {
          "base_uri": "https://localhost:8080/"
        },
        "outputId": "64c21316-c997-41ca-f809-e2c0afaba337"
      },
      "outputs": [
        {
          "output_type": "stream",
          "name": "stdout",
          "text": [
            "b: \n",
            " array([[0., 0.],\n",
            "       [0., 0.]])\n",
            "b: \n",
            " array([[0., 0.],\n",
            "       [0., 1.]])\n",
            "a: \n",
            " array([[0., 0.],\n",
            "       [0., 1.]])\n",
            "shape of a:  (1, 4)\n"
          ]
        }
      ],
      "source": [
        "# Case 1\n",
        "\n",
        "a = np.zeros((2,2))\n",
        "b = a #No copy at all # Share both the data and properties(e.g., dimension of array)\n",
        "print('b: \\n', b.__repr__())\n",
        "\n",
        "b[1,1] = 1\n",
        "print('b: \\n', b.__repr__())\n",
        "print('a: \\n', a.__repr__()) # a is also changed\n",
        "\n",
        "\n",
        "b.shape = (1,4)\n",
        "print('shape of a: ', a.shape) #The shape of a is also changed"
      ]
    },
    {
      "cell_type": "code",
      "execution_count": null,
      "metadata": {
        "id": "gf89X3s-0KyY",
        "colab": {
          "base_uri": "https://localhost:8080/"
        },
        "outputId": "4035b957-f586-4f59-8376-8e2c44f1e95f"
      },
      "outputs": [
        {
          "output_type": "stream",
          "name": "stdout",
          "text": [
            "b: \n",
            " array([[0., 0.],\n",
            "       [0., 0.]])\n",
            "b: \n",
            " array([[0., 0.],\n",
            "       [0., 1.]])\n",
            "a: \n",
            " array([[0., 0.],\n",
            "       [0., 1.]])\n",
            "shape of a:  (2, 2)\n"
          ]
        }
      ],
      "source": [
        "# Case 2 : Shallow copy\n",
        "\n",
        "a = np.zeros((2,2))\n",
        "b = a.view()                    #Shallow copy # Share the data but not properties(e.g., dimension of array)\n",
        "print('b: \\n', b.__repr__())\n",
        "\n",
        "b[1,1] = 1\n",
        "print('b: \\n', b.__repr__())\n",
        "print('a: \\n', a.__repr__())    # a is also changed!!\n",
        "\n",
        "b.shape = (1,4)\n",
        "print('shape of a: ', a.shape)  #The shape of a is not changed"
      ]
    },
    {
      "cell_type": "code",
      "execution_count": null,
      "metadata": {
        "id": "hRSify8d9qNT"
      },
      "outputs": [],
      "source": [
        "# Case 3 : Deep copy\n",
        "\n",
        "a=np.zeros((2,2))\n",
        "c = a.copy()                  #Deep copy # Create an independet variable not sharing both the data and properties\n",
        "print('c: \\n', c.__repr__())\n",
        "\n",
        "c[1,1] =1\n",
        "print('c: \\n', c.__repr__())\n",
        "print('a: \\n', a.__repr__())   # a is not changed"
      ]
    },
    {
      "cell_type": "markdown",
      "source": [
        "## Plotting data\n",
        "\n",
        "Matplotlib is a popular libarary for creating static, animated, interactive visualizations in Python."
      ],
      "metadata": {
        "id": "_sPrb-ylsNHh"
      }
    },
    {
      "cell_type": "markdown",
      "source": [
        "### Import matplotlib"
      ],
      "metadata": {
        "id": "Go3Y64HFt2hj"
      }
    },
    {
      "cell_type": "code",
      "source": [
        "import matplotlib.pyplot as plt"
      ],
      "metadata": {
        "id": "ntkVi1KFtqfL"
      },
      "execution_count": null,
      "outputs": []
    },
    {
      "cell_type": "markdown",
      "source": [
        "### Generate data & Define a function"
      ],
      "metadata": {
        "id": "908iFVpYuIA_"
      }
    },
    {
      "cell_type": "code",
      "source": [
        "x_temp = np.arange(0, 10, 0.01)\n",
        "x = np.linspace(0, 10, 1000)\n",
        "print(x_temp.shape, x.shape)\n",
        "\n",
        "y = 3*x**2 - 20*x + 25"
      ],
      "metadata": {
        "id": "rieX9I4iv2SO",
        "colab": {
          "base_uri": "https://localhost:8080/"
        },
        "outputId": "5e613ab1-7214-4ded-d3ca-37c64b1b04cd"
      },
      "execution_count": null,
      "outputs": [
        {
          "output_type": "stream",
          "name": "stdout",
          "text": [
            "(1000,) (1000,)\n"
          ]
        }
      ]
    },
    {
      "cell_type": "markdown",
      "source": [
        "### Plot the function"
      ],
      "metadata": {
        "id": "NGtOA1DQvhtY"
      }
    },
    {
      "cell_type": "code",
      "source": [
        "plt.plot(x, y, label='3x^2 - 20x + 25', color='red')\n",
        "plt.grid()\n",
        "plt.xlabel('X axis')\n",
        "plt.ylabel('Y axis')\n",
        "plt.legend()\n",
        "plt.show()"
      ],
      "metadata": {
        "id": "-X4CPwSCvlD6",
        "colab": {
          "base_uri": "https://localhost:8080/",
          "height": 449
        },
        "outputId": "041c9ab2-b1b9-4f1e-f091-8dfa3ceef5fd"
      },
      "execution_count": null,
      "outputs": [
        {
          "output_type": "display_data",
          "data": {
            "text/plain": [
              "<Figure size 640x480 with 1 Axes>"
            ],
            "image/png": "[encoded data removed]"
          },
          "metadata": {}
        }
      ]
    },
    {
      "cell_type": "code",
      "source": [
        "plt.scatter(x, y, label='3x^2 - 20x + 25', color='green', s=1)\n",
        "plt.grid()\n",
        "plt.xlabel('X axis')\n",
        "plt.ylabel('Y axis')\n",
        "plt.legend()\n",
        "plt.show()"
      ],
      "metadata": {
        "id": "cI789obwxzV3",
        "colab": {
          "base_uri": "https://localhost:8080/",
          "height": 449
        },
        "outputId": "459053e0-dd16-43c4-92bd-f03cf70318a0"
      },
      "execution_count": null,
      "outputs": [
        {
          "output_type": "display_data",
          "data": {
            "text/plain": [
              "<Figure size 640x480 with 1 Axes>"
            ],
            "image/png": "[encoded data removed]"
          },
          "metadata": {}
        }
      ]
    },
    {
      "cell_type": "markdown",
      "source": [
        "## Exercises\n",
        "\n",
        "We are going to generate 100 data points from each of 3 multivariate normal distributions:\n",
        "\\begin{align*}\n",
        "&X\\sim\\mathcal{N}(\\mu, \\Sigma),\\\\\n",
        "&\\text{where}\\quad \\mu_1=\\begin{bmatrix} 0 & 10 \\end{bmatrix}, \\quad \\mu_2=\\begin{bmatrix} 10 & 0 \\end{bmatrix},\\quad \\mu_3=\\begin{bmatrix} 20 & 20 \\end{bmatrix}, \\quad\\Sigma=\\begin{bmatrix} 3 & 0 \\\\ 0 & 3 \\end{bmatrix}.\n",
        "\\end{align*}\n",
        "\n",
        "Now plot the data and the centroid of data sampled from each of the distributions."
      ],
      "metadata": {
        "id": "lOUBqaUmxngL"
      }
    },
    {
      "cell_type": "markdown",
      "source": [
        "### **Exercise 1**. generate 1000 data points from each normal distribution (use ```np.random.normal```)"
      ],
      "metadata": {
        "id": "zoAao2mt7pPL"
      }
    },
    {
      "cell_type": "code",
      "source": [
        "n = 1000\n",
        "###########################\n",
        "mu1 = np.array([0, 10])\n",
        "mu2 = np.array([10, 0])\n",
        "mu3 = np.array([20, 20])\n",
        "cov = np.array([[3, 0],[0, 3]])\n",
        "\n",
        "x1_x = np.random.normal(mu1[0],cov[0][0]**(1/2),size=n)\n",
        "x1_y = np.random.normal(mu1[1],cov[1][1]**(1/2),size=n)\n",
        "x2_x = np.random.normal(mu2[0],cov[0][0]**(1/2),size=n)\n",
        "x2_y = np.random.normal(mu2[1],cov[1][1]**(1/2),size=n)\n",
        "x3_x = np.random.normal(mu3[0],cov[0][0]**(1/2),size=n)\n",
        "x3_y = np.random.normal(mu3[1],cov[1][1]**(1/2),size=n)\n",
        "x1 = np.vstack([x1_x, x1_y])\n",
        "x2 = np.vstack([x2_x, x2_y])\n",
        "x3 = np.vstack([x3_x, x3_y])\n",
        "print(\"\\nx1 data points : \\n\", x1)\n",
        "print(\"\\nx2 data points : \\n\", x2)\n",
        "print(\"\\nx3 data points : \\n\", x3)\n",
        "\n",
        "###########################\n",
        "\n",
        "x1.shape, x2.shape, x3.shape"
      ],
      "metadata": {
        "id": "WhNDe9Ke7e1K",
        "colab": {
          "base_uri": "https://localhost:8080/"
        },
        "outputId": "0f19e131-7c63-43ed-c771-0b0887916d66"
      },
      "execution_count": null,
      "outputs": [
        {
          "output_type": "stream",
          "name": "stdout",
          "text": [
            "\n",
            "x1 data points : \n",
            " [[-1.16437285  2.21351672 -0.58904046 ...  1.12369404  2.75508967\n",
            "  -0.92074412]\n",
            " [ 9.24600301  7.4276226  11.14969567 ... 10.09240586 11.10754555\n",
            "   8.08366509]]\n",
            "\n",
            "x2 data points : \n",
            " [[10.05481235  6.60568235 11.77285768 ...  9.04921587  8.64827042\n",
            "  10.92584987]\n",
            " [ 0.72595211 -4.30362356 -1.21797495 ...  0.74399637 -1.44376772\n",
            "  -1.63761216]]\n",
            "\n",
            "x3 data points : \n",
            " [[22.92433527 18.55211312 21.7044507  ... 21.76411434 21.38077899\n",
            "  20.36984274]\n",
            " [21.80398205 22.02408489 21.88691877 ... 18.19393595 20.87576809\n",
            "  17.80659131]]\n"
          ]
        },
        {
          "output_type": "execute_result",
          "data": {
            "text/plain": [
              "((2, 1000), (2, 1000), (2, 1000))"
            ]
          },
          "metadata": {},
          "execution_count": 35
        }
      ]
    },
    {
      "cell_type": "markdown",
      "source": [
        "### **Exercise 2**. compute the mean and covariance for x1, x2, x3"
      ],
      "metadata": {
        "id": "Mhyv-edp8Vmt"
      }
    },
    {
      "cell_type": "code",
      "source": [
        "x1_mean = [x1_x.sum()/n,x1_y.sum()/n]\n",
        "x2_mean = [x2_x.sum()/n,x2_y.sum()/n]\n",
        "x3_mean = [x3_x.sum()/n,x3_y.sum()/n]\n",
        "\n",
        "x1_cov = np.cov(x1_x,x1_y)\n",
        "x2_cov = np.cov(x2_x,x2_y)\n",
        "x3_cov = np.cov(x3_x,x3_y)\n",
        "\n",
        "print(\"x1 mean :\", x1_mean)\n",
        "print(\"x1 covariance :\\n\", x1_cov)\n",
        "print(\"x2 mean :\", x2_mean)\n",
        "print(\"x2 covariance :\\n\", x2_cov)\n",
        "print(\"x3 mean :\", x3_mean)\n",
        "print(\"x3 covariance :\\n\", x3_cov)"
      ],
      "metadata": {
        "id": "fEUOLzPX8VGQ",
        "colab": {
          "base_uri": "https://localhost:8080/"
        },
        "outputId": "12bb877e-1385-4cb3-8562-92acce2c020f"
      },
      "execution_count": null,
      "outputs": [
        {
          "output_type": "stream",
          "name": "stdout",
          "text": [
            "x1 mean : [0.04130093261303617, 10.019499450873342]\n",
            "x1 covariance :\n",
            " [[ 3.03278589 -0.14394841]\n",
            " [-0.14394841  2.86264888]]\n",
            "x2 mean : [9.980044589863933, 0.027073052028954537]\n",
            "x2 covariance :\n",
            " [[2.81031281 0.01678607]\n",
            " [0.01678607 2.95010131]]\n",
            "x3 mean : [19.98300758994643, 19.91300790165172]\n",
            "x3 covariance :\n",
            " [[2.73085529 0.06481162]\n",
            " [0.06481162 3.13061345]]\n"
          ]
        }
      ]
    },
    {
      "cell_type": "markdown",
      "source": [
        "### **Exercise 3**. plot the sampled data and the centroids"
      ],
      "metadata": {
        "id": "92Qf20jC9DOK"
      }
    },
    {
      "cell_type": "code",
      "source": [
        "###########################\n",
        "plt.plot(x1_x, x1_y, label='mean = [0,10], cov = [[3,0],[0,3]]', marker = '.', color='red', linestyle=\"None\")\n",
        "plt.plot(x1_mean[0], x1_mean[1],marker = 'D', color='white', linestyle=\"None\")\n",
        "plt.plot(x2_x, x2_y, label='mean = [10,0], cov = [[3,0],[0,3]]', marker = '.', color='blue', linestyle=\"None\")\n",
        "plt.plot(x2_mean[0], x2_mean[1], marker = 'D', color='yellow', linestyle=\"None\")\n",
        "plt.plot(x3_x, x3_y, label='mean = [20,20], cov = [[3,0],[0,3]]', marker = '.', color='green', linestyle=\"None\")\n",
        "plt.plot(x3_mean[0], x3_mean[1], marker = 'D', color = 'black', linestyle=\"None\")\n",
        "###########################\n",
        "\n",
        "plt.grid()\n",
        "plt.legend(loc='upper left')\n",
        "plt.show()"
      ],
      "metadata": {
        "id": "gvl2P13P9MlI",
        "colab": {
          "base_uri": "https://localhost:8080/",
          "height": 430
        },
        "outputId": "97cc6205-59b9-420a-f7b6-52ba79eeca45"
      },
      "execution_count": null,
      "outputs": [
        {
          "output_type": "display_data",
          "data": {
            "text/plain": [
              "<Figure size 640x480 with 1 Axes>"
            ],
            "image/png": "[encoded data removed]"
          },
          "metadata": {}
        }
      ]
    },
    {
      "cell_type": "markdown",
      "metadata": {
        "id": "Pkgk-rayeCZa"
      },
      "source": [
        "## References\n",
        "\n",
        "https://numpy.org/\n",
        "\n",
        "https://cs231n.github.io/python-numpy-tutorial/#numpy\n",
        "\n",
        "http://aikorea.org/cs231n/python-numpy-tutorial/\n",
        "\n",
        "https://nbviewer.jupyter.org/gist/FinanceData/274d1a051b8ef10379b35b3fa72dd931\n",
        "\n",
        "https://matplotlib.org/"
      ]
    },
    {
      "cell_type": "code",
      "source": [
        "x1 = np.random.multivariate_normal(mean = mu1, cov = cov, size = n)\n",
        "x2 = np.random.multivariate_normal(mean = mu2, cov = cov, size = n)\n",
        "x3 = np.random.multivariate_normal(mean = mu3, cov = cov, size = n)\n",
        "\n",
        "###########################\n",
        "plt.plot(x1[:,0], x1[:,1], label='mean = [0,10], cov = [[3,0],[0,3]]', marker = '.', color='red', linestyle=\"None\")\n",
        "plt.plot(x1[:,0].sum()/n, x1[:,1].sum()/n, marker = 'D', color='white', linestyle=\"None\")\n",
        "plt.plot(x2[:,0], x2[:,1], label='mean = [10,0], cov = [[3,0],[0,3]]', marker = '.', color='blue', linestyle=\"None\")\n",
        "plt.plot(x2[:,0].sum()/n, x2[:,1].sum()/n, marker = 'D', color='yellow', linestyle=\"None\")\n",
        "plt.plot(x3[:,0], x3[:,1], label='mean = [20,20], cov = [[3,0],[0,3]]', marker = '.', color='green', linestyle=\"None\")\n",
        "plt.plot(x3[:,0].sum()/n, x3[:,1].sum()/n, marker = 'D', color='black', linestyle=\"None\")\n",
        "###########################\n",
        "\n",
        "plt.grid()\n",
        "plt.legend(loc='upper left')\n",
        "plt.show()\n"
      ],
      "metadata": {
        "id": "I4TEb-MHteND",
        "colab": {
          "base_uri": "https://localhost:8080/",
          "height": 430
        },
        "outputId": "83de5d93-5cd3-4da1-b9a9-049abc731e87"
      },
      "execution_count": null,
      "outputs": [
        {
          "output_type": "display_data",
          "data": {
            "text/plain": [
              "<Figure size 640x480 with 1 Axes>"
            ],
            "image/png": "[encoded data removed]"
          },
          "metadata": {}
        }
      ]
    }
  ],
  "metadata": {
    "colab": {
      "collapsed_sections": [
        "BsaheuZzgSEC",
        "v0O7ya42kHRo",
        "Muu34ANY5aNb",
        "c_2LN5Z6jQEp",
        "ZdBNp8Gn5ewE",
        "wm5gY8i1pjZ1",
        "oaEg599cgSEM",
        "908iFVpYuIA_",
        "NGtOA1DQvhtY"
      ],
      "provenance": []
    },
    "kernelspec": {
      "display_name": "Python 3",
      "language": "python",
      "name": "python3"
    },
    "language_info": {
      "codemirror_mode": {
        "name": "ipython",
        "version": 3
      },
      "file_extension": ".py",
      "mimetype": "text/x-python",
      "name": "python",
      "nbconvert_exporter": "python",
      "pygments_lexer": "ipython3",
      "version": "3.6.9"
    }
  },
  "nbformat": 4,
  "nbformat_minor": 0
}